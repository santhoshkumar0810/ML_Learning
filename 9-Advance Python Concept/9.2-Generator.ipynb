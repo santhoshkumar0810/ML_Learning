{
 "cells": [
  {
   "cell_type": "markdown",
   "metadata": {},
   "source": [
    "### Generator\n",
    "\n",
    "Generators are a simpler way to create iterators. They use the yield keyword to produce a series of value lazily, which means they generate values on the fly and do not store them in memeory\n"
   ]
  },
  {
   "cell_type": "code",
   "execution_count": 5,
   "metadata": {},
   "outputs": [],
   "source": [
    "def square(n):\n",
    "    for i in range(3):\n",
    "        return i ** 2"
   ]
  },
  {
   "cell_type": "code",
   "execution_count": 6,
   "metadata": {},
   "outputs": [
    {
     "data": {
      "text/plain": [
       "0"
      ]
     },
     "execution_count": 6,
     "metadata": {},
     "output_type": "execute_result"
    }
   ],
   "source": [
    "square(3)"
   ]
  },
  {
   "cell_type": "code",
   "execution_count": 13,
   "metadata": {},
   "outputs": [],
   "source": [
    "def square(n):\n",
    "    for i in range(3):\n",
    "        yield i ** 2"
   ]
  },
  {
   "cell_type": "code",
   "execution_count": 8,
   "metadata": {},
   "outputs": [
    {
     "data": {
      "text/plain": [
       "<generator object square at 0x73863c272dc0>"
      ]
     },
     "execution_count": 8,
     "metadata": {},
     "output_type": "execute_result"
    }
   ],
   "source": [
    "square(3)  ## It is converted into a generator object"
   ]
  },
  {
   "cell_type": "code",
   "execution_count": 14,
   "metadata": {},
   "outputs": [
    {
     "name": "stdout",
     "output_type": "stream",
     "text": [
      "0\n",
      "1\n",
      "4\n"
     ]
    }
   ],
   "source": [
    "for i in square(3):\n",
    "    print(i)"
   ]
  },
  {
   "cell_type": "code",
   "execution_count": 15,
   "metadata": {},
   "outputs": [],
   "source": [
    "def my_generator():\n",
    "    yield 1\n",
    "    yield 2\n",
    "    yield 3"
   ]
  },
  {
   "cell_type": "code",
   "execution_count": 17,
   "metadata": {},
   "outputs": [
    {
     "name": "stdout",
     "output_type": "stream",
     "text": [
      "1\n",
      "2\n",
      "3\n"
     ]
    }
   ],
   "source": [
    "for i in my_generator():\n",
    "    print(i)"
   ]
  },
  {
   "cell_type": "code",
   "execution_count": 18,
   "metadata": {},
   "outputs": [],
   "source": [
    "gen = my_generator()"
   ]
  },
  {
   "cell_type": "code",
   "execution_count": 19,
   "metadata": {},
   "outputs": [
    {
     "data": {
      "text/plain": [
       "1"
      ]
     },
     "execution_count": 19,
     "metadata": {},
     "output_type": "execute_result"
    }
   ],
   "source": [
    "next(gen)"
   ]
  },
  {
   "cell_type": "code",
   "execution_count": 22,
   "metadata": {},
   "outputs": [
    {
     "ename": "StopIteration",
     "evalue": "",
     "output_type": "error",
     "traceback": [
      "\u001b[0;31m---------------------------------------------------------------------------\u001b[0m",
      "\u001b[0;31mStopIteration\u001b[0m                             Traceback (most recent call last)",
      "Cell \u001b[0;32mIn[22], line 1\u001b[0m\n\u001b[0;32m----> 1\u001b[0m \u001b[38;5;28;43mnext\u001b[39;49m\u001b[43m(\u001b[49m\u001b[43mgen\u001b[49m\u001b[43m)\u001b[49m\n",
      "\u001b[0;31mStopIteration\u001b[0m: "
     ]
    }
   ],
   "source": [
    "next(gen)"
   ]
  },
  {
   "cell_type": "markdown",
   "metadata": {},
   "source": [
    "### Practical example\n",
    "\n",
    "Generator are particularly useful for reading large files because they allow you to process one line at a time without loading the entire file into memory"
   ]
  },
  {
   "cell_type": "code",
   "execution_count": 23,
   "metadata": {},
   "outputs": [],
   "source": [
    "### Practical : Reading Large files\n",
    "\n",
    "def read_file(file_path):\n",
    "    with open(file_path,'r') as file:\n",
    "        for line in file:\n",
    "            yield line\n"
   ]
  },
  {
   "cell_type": "code",
   "execution_count": 24,
   "metadata": {},
   "outputs": [
    {
     "name": "stdout",
     "output_type": "stream",
     "text": [
      "Nelson Mandela's Journey from Prisoner to President: Rising Above Personal Suffering to National Reconciliation\n",
      "Introduction\n",
      "Nelson Mandela's life story is a profound narrative of resilience, forgiveness, and leadership that transcended personal suffering for the greater good of a nation. His 27 years of imprisonment did not diminish his spirit; rather, they fortified his resolve to lead South Africa towards reconciliation and democracy. This assignment explores Mandela's journey, focusing on how he rose above his personal afflictions to foster national healing and unity. By examining his leadership qualities, his philosophy of forgiveness, and the impact of his actions on South Africa's transition from apartheid to democracy, we can glean valuable insights into the essence of self-transcendence.\n",
      "Background: The Context of Apartheid\n",
      "Apartheid, a system of institutionalized racial segregation and discrimination in South Africa, created an environment of profound injustice and suffering for the majority of the population. Mandela, born in 1918, emerged as a leader in the African National Congress (ANC), advocating for the rights of black South Africans. His early activism included both peaceful protests and armed resistance against the oppressive regime. In 1964, he was sentenced to life imprisonment for his anti-apartheid activities, marking the beginning of a long and arduous journey that would ultimately lead to his presidency.\n",
      "The Power of Resilience\n",
      "During his imprisonment on Robben Island, Mandela's resilience became a defining characteristic of his leadership. Despite the harsh conditions, he maintained a strong sense of purpose and dignity. According to Thwala (2023), Mandela illustrated remarkable self-control and adaptability, connecting his beliefs with his actions even in the face of extreme adversity. His ability to endure suffering without succumbing to bitterness is a testament to his character and leadership style. Mandela's resilience not only inspired fellow inmates but also became a symbol of hope for millions of South Africans yearning for freedom.\n",
      "Leadership Through Forgiveness\n",
      "One of Mandela's most significant contributions to South Africa's reconciliation process was his emphasis on forgiveness. Upon his release in 1990, he did not seek revenge against those who had imprisoned him. Instead, he extended a hand of reconciliation to his former oppressors, understanding that true healing could only occur through unity. This approach was exemplified in the establishment of the Truth and Reconciliation Commission (TRC), which provided a platform for victims and perpetrators to share their experiences. Mandela's belief in empathy and understanding was crucial in fostering an inclusive environment for healing, as noted by Brandt (2020).\n",
      "The Role of Education\n",
      "Mandela's commitment to education played a vital role in his personal development and leadership philosophy. Even while imprisoned, he pursued his studies, completing a degree through correspondence courses. This relentless pursuit of knowledge reflected his belief that education is a powerful tool for change. Mandela famously stated, \"Education is the most powerful weapon you can use to change the world.\" His emphasis on education not only shaped his leadership style but also laid the foundation for a more informed and engaged citizenry in post-apartheid South Africa.\n",
      "Transition to Democracy\n",
      "Mandela's leadership was instrumental in the peaceful transition from apartheid to a democratic South Africa. His ability to engage in dialogue with political opponents, including then-President F.W. de Klerk, demonstrated his commitment to collaboration and inclusivity. By recognizing the need for cooperation among diverse groups, Mandela facilitated a smooth transition that avoided the violence and chaos seen in other nations undergoing similar changes. His leadership style, characterized by humility and a focus on collective well-being, set a precedent for future leaders.\n",
      "The Legacy of Self-Transcendence\n",
      "Mandela's journey from prisoner to president is a powerful illustration of self-transcendence. He rose above personal suffering and the injustices he faced to advocate for a vision of a united and democratic South Africa. His ability to forgive and embrace his former enemies was not just an act of personal strength; it was a strategic decision aimed at fostering national healing. Mandela's legacy serves as a reminder that true leadership involves putting the needs of others above one's own grievances.\n",
      "Conclusion\n",
      "Nelson Mandela's life and leadership exemplify the principles of self-transcendence, resilience, and forgiveness. His journey from prisoner to president is a testament to the power of the human spirit to rise above suffering for the greater good. By prioritizing reconciliation over revenge and emphasizing the importance of education, Mandela not only transformed South Africa but also provided a model for leaders around the world. His legacy continues to inspire individuals to strive for justice, equality, and unity in the face of adversity.\n",
      "References\n",
      "Nleya, N., & Chummun, H. (2022). Self-Leadership: The case of Nelson Mandela and Winston Churchill. Paper Publications.\n",
      "Thwala, M. (2023). Resilience in Leadership: The Nelson Mandela Example. Journal of Leadership Studies.\n",
      "Brandt, A. (2020). Empathy as a Leadership Tool: Lessons from Nelson Mandela. Leadership Quarterly.\n",
      "Mandela Successors. (2020). The Impact of Mandela's Leadership on South Africa's Transition. African Journal of Political Science.\n",
      "Garba, A., & Akuva, M. (2020). Adaptability in Leadership: The Role of Nelson Mandela in South Africa's Democracy. International Journal of Leadership Studies.\n",
      "This assignment provides a comprehensive analysis of Nelson Mandela's journey and the principles of self-transcendence that defined his leadership, fulfilling the requirement for a case study format while covering the necessary depth and breadth of the topic.\n"
     ]
    }
   ],
   "source": [
    "file_path = 'large_file.txt'\n",
    "\n",
    "for line in read_file(file_path):\n",
    "    print(line.strip())"
   ]
  }
 ],
 "metadata": {
  "kernelspec": {
   "display_name": "venv",
   "language": "python",
   "name": "python3"
  },
  "language_info": {
   "codemirror_mode": {
    "name": "ipython",
    "version": 3
   },
   "file_extension": ".py",
   "mimetype": "text/x-python",
   "name": "python",
   "nbconvert_exporter": "python",
   "pygments_lexer": "ipython3",
   "version": "3.12.3"
  }
 },
 "nbformat": 4,
 "nbformat_minor": 2
}
